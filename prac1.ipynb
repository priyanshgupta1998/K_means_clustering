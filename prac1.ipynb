{
  "nbformat": 4,
  "nbformat_minor": 0,
  "metadata": {
    "colab": {
      "name": "TensorFlow_with_GPU (8).ipynb",
      "version": "0.3.2",
      "provenance": [],
      "collapsed_sections": [],
      "include_colab_link": true
    },
    "kernelspec": {
      "name": "python3",
      "display_name": "Python 3"
    },
    "accelerator": "GPU"
  },
  "cells": [
    {
      "cell_type": "markdown",
      "metadata": {
        "id": "view-in-github",
        "colab_type": "text"
      },
      "source": [
        "<a href=\"https://colab.research.google.com/github/priyanshgupta1998/K_means_clustering/blob/master/prac1.ipynb\" target=\"_parent\"><img src=\"https://colab.research.google.com/assets/colab-badge.svg\" alt=\"Open In Colab\"/></a>"
      ]
    },
    {
      "metadata": {
        "id": "LtsYBJ28GHTJ",
        "colab_type": "code",
        "colab": {}
      },
      "cell_type": "code",
      "source": [
        "from sklearn.feature_extraction.text import TfidfVectorizer\n",
        "from sklearn.cluster import KMeans\n",
        "from sklearn.metrics import adjusted_rand_score"
      ],
      "execution_count": 0,
      "outputs": []
    },
    {
      "metadata": {
        "id": "wjxnCom_GHYt",
        "colab_type": "code",
        "colab": {}
      },
      "cell_type": "code",
      "source": [
        "documents = [\"Cricket is one of the most famous sport in the world\",\n",
        "             \"Football is the most famous sport\",\n",
        "             \"Rugby is a popular sport among the young \",\n",
        "             \"Lionel Messi is an icon in the world of football\",\n",
        "             \"Virat Kohli is one of the best batsmen to play the game\",\n",
        "             \"Sporting makes you live healthy\"]"
      ],
      "execution_count": 0,
      "outputs": []
    },
    {
      "metadata": {
        "id": "-hoo_Nz1NPS_",
        "colab_type": "code",
        "colab": {
          "base_uri": "https://localhost:8080/",
          "height": 136
        },
        "outputId": "6310a15d-fc7e-4f97-d43c-a7ff3732665e"
      },
      "cell_type": "code",
      "source": [
        "vectorizer = TfidfVectorizer(stop_words='english') \n",
        "vectorizer"
      ],
      "execution_count": 44,
      "outputs": [
        {
          "output_type": "execute_result",
          "data": {
            "text/plain": [
              "TfidfVectorizer(analyzer='word', binary=False, decode_error='strict',\n",
              "        dtype=<class 'numpy.float64'>, encoding='utf-8', input='content',\n",
              "        lowercase=True, max_df=1.0, max_features=None, min_df=1,\n",
              "        ngram_range=(1, 1), norm='l2', preprocessor=None, smooth_idf=True,\n",
              "        stop_words='english', strip_accents=None, sublinear_tf=False,\n",
              "        token_pattern='(?u)\\\\b\\\\w\\\\w+\\\\b', tokenizer=None, use_idf=True,\n",
              "        vocabulary=None)"
            ]
          },
          "metadata": {
            "tags": []
          },
          "execution_count": 44
        }
      ]
    },
    {
      "metadata": {
        "id": "gHAmx2cZGHes",
        "colab_type": "code",
        "colab": {}
      },
      "cell_type": "code",
      "source": [
        "  X = vectorizer.fit_transform(documents)"
      ],
      "execution_count": 0,
      "outputs": []
    },
    {
      "metadata": {
        "id": "ASyfVCJuNK8T",
        "colab_type": "code",
        "colab": {
          "base_uri": "https://localhost:8080/",
          "height": 459
        },
        "outputId": "e3356a5c-6587-4ea2-ffba-9ebf5395cc55"
      },
      "cell_type": "code",
      "source": [
        "print(X)"
      ],
      "execution_count": 46,
      "outputs": [
        {
          "output_type": "stream",
          "text": [
            "  (0, 2)\t0.5950543394685311\n",
            "  (0, 3)\t0.48795307073452476\n",
            "  (0, 16)\t0.41196351124968067\n",
            "  (0, 19)\t0.48795307073452476\n",
            "  (1, 3)\t0.6071443239386358\n",
            "  (1, 16)\t0.5125929572459945\n",
            "  (1, 4)\t0.6071443239386358\n",
            "  (2, 16)\t0.3711559310287487\n",
            "  (2, 15)\t0.5361104596573927\n",
            "  (2, 14)\t0.5361104596573927\n",
            "  (2, 20)\t0.5361104596573927\n",
            "  (3, 19)\t0.39339984891428303\n",
            "  (3, 4)\t0.39339984891428303\n",
            "  (3, 9)\t0.4797475439396706\n",
            "  (3, 12)\t0.4797475439396706\n",
            "  (3, 7)\t0.4797475439396706\n",
            "  (4, 18)\t0.408248290463863\n",
            "  (4, 8)\t0.408248290463863\n",
            "  (4, 1)\t0.408248290463863\n",
            "  (4, 0)\t0.408248290463863\n",
            "  (4, 13)\t0.408248290463863\n",
            "  (4, 5)\t0.408248290463863\n",
            "  (5, 17)\t0.5\n",
            "  (5, 11)\t0.5\n",
            "  (5, 10)\t0.5\n",
            "  (5, 6)\t0.5\n"
          ],
          "name": "stdout"
        }
      ]
    },
    {
      "metadata": {
        "id": "gC6Pl82zGHl0",
        "colab_type": "code",
        "colab": {
          "base_uri": "https://localhost:8080/",
          "height": 68
        },
        "outputId": "05d227f4-5d9a-45c6-a742-e58a524cea87"
      },
      "cell_type": "code",
      "source": [
        "no_of_clusters = 3\n",
        "model = KMeans(n_clusters=no_of_clusters, init='k-means++', max_iter=100, n_init=1)\n",
        "model.fit(X)"
      ],
      "execution_count": 47,
      "outputs": [
        {
          "output_type": "execute_result",
          "data": {
            "text/plain": [
              "KMeans(algorithm='auto', copy_x=True, init='k-means++', max_iter=100,\n",
              "    n_clusters=3, n_init=1, n_jobs=None, precompute_distances='auto',\n",
              "    random_state=None, tol=0.0001, verbose=0)"
            ]
          },
          "metadata": {
            "tags": []
          },
          "execution_count": 47
        }
      ]
    },
    {
      "metadata": {
        "id": "A0lq42leNsUn",
        "colab_type": "code",
        "colab": {
          "base_uri": "https://localhost:8080/",
          "height": 119
        },
        "outputId": "d9c80877-67b5-404b-e08e-ba8fa8fa78e9"
      },
      "cell_type": "code",
      "source": [
        "order_centroids = model.cluster_centers_.argsort()\n",
        "order_centroids"
      ],
      "execution_count": 37,
      "outputs": [
        {
          "output_type": "execute_result",
          "data": {
            "text/plain": [
              "array([[20,  2,  3,  4, 16, 15,  7, 14,  9, 19, 12, 18, 13,  0,  8,  5,\n",
              "         1,  6, 17, 11, 10],\n",
              "       [ 0, 18, 17, 13, 12, 11,  9,  8, 10,  6,  5,  1,  7, 19, 14, 15,\n",
              "        20,  2,  4,  3, 16],\n",
              "       [ 0, 18, 17, 16, 15, 14, 13, 11, 10,  6,  5,  3,  2,  1,  8, 20,\n",
              "        19,  4,  9,  7, 12]])"
            ]
          },
          "metadata": {
            "tags": []
          },
          "execution_count": 37
        }
      ]
    },
    {
      "metadata": {
        "id": "-GfrFQurNn_Z",
        "colab_type": "code",
        "colab": {
          "base_uri": "https://localhost:8080/",
          "height": 119
        },
        "outputId": "1dd905b1-d938-45b6-bae0-763bd0dfa05b"
      },
      "cell_type": "code",
      "source": [
        "order_centroids = model.cluster_centers_.argsort()[:, ::-1]\n",
        "order_centroids"
      ],
      "execution_count": 48,
      "outputs": [
        {
          "output_type": "execute_result",
          "data": {
            "text/plain": [
              "array([[10, 11, 17,  6,  1,  5,  8,  0, 13, 18, 12, 19,  9, 14,  7, 15,\n",
              "        16,  4,  3,  2, 20],\n",
              "       [ 3,  4, 16, 19,  2,  7, 12,  9, 20,  1,  5,  6, 10,  8, 11, 13,\n",
              "        14, 15, 17, 18,  0],\n",
              "       [20, 15, 14, 16,  8,  1,  2,  3,  4,  5,  6,  7, 10,  9, 19, 11,\n",
              "        12, 13, 17, 18,  0]])"
            ]
          },
          "metadata": {
            "tags": []
          },
          "execution_count": 48
        }
      ]
    },
    {
      "metadata": {
        "id": "PifO4JUpOpIQ",
        "colab_type": "code",
        "colab": {
          "base_uri": "https://localhost:8080/",
          "height": 374
        },
        "outputId": "95433498-3e70-4859-f3af-9e33cd26be12"
      },
      "cell_type": "code",
      "source": [
        "terms = vectorizer.get_feature_names()\n",
        "terms"
      ],
      "execution_count": 49,
      "outputs": [
        {
          "output_type": "execute_result",
          "data": {
            "text/plain": [
              "['batsmen',\n",
              " 'best',\n",
              " 'cricket',\n",
              " 'famous',\n",
              " 'football',\n",
              " 'game',\n",
              " 'healthy',\n",
              " 'icon',\n",
              " 'kohli',\n",
              " 'lionel',\n",
              " 'live',\n",
              " 'makes',\n",
              " 'messi',\n",
              " 'play',\n",
              " 'popular',\n",
              " 'rugby',\n",
              " 'sport',\n",
              " 'sporting',\n",
              " 'virat',\n",
              " 'world',\n",
              " 'young']"
            ]
          },
          "metadata": {
            "tags": []
          },
          "execution_count": 49
        }
      ]
    },
    {
      "metadata": {
        "id": "nWjb9BtFGHo7",
        "colab_type": "code",
        "colab": {
          "base_uri": "https://localhost:8080/",
          "height": 578
        },
        "outputId": "8dd8b927-5752-4b4a-c479-a5a63a216a61"
      },
      "cell_type": "code",
      "source": [
        "for a in range(no_of_clusters ):\n",
        "    print(\"Cluster %d:\" % a)\n",
        "    for ind in order_centroids[a, :10]:\n",
        "        print('           %s' % terms[ind])"
      ],
      "execution_count": 50,
      "outputs": [
        {
          "output_type": "stream",
          "text": [
            "Cluster 0:\n",
            "           live\n",
            "           makes\n",
            "           sporting\n",
            "           healthy\n",
            "           best\n",
            "           game\n",
            "           kohli\n",
            "           batsmen\n",
            "           play\n",
            "           virat\n",
            "Cluster 1:\n",
            "           famous\n",
            "           football\n",
            "           sport\n",
            "           world\n",
            "           cricket\n",
            "           icon\n",
            "           messi\n",
            "           lionel\n",
            "           young\n",
            "           best\n",
            "Cluster 2:\n",
            "           young\n",
            "           rugby\n",
            "           popular\n",
            "           sport\n",
            "           kohli\n",
            "           best\n",
            "           cricket\n",
            "           famous\n",
            "           football\n",
            "           game\n"
          ],
          "name": "stdout"
        }
      ]
    },
    {
      "metadata": {
        "id": "1ZQmOlJKGH8I",
        "colab_type": "code",
        "colab": {
          "base_uri": "https://localhost:8080/",
          "height": 34
        },
        "outputId": "3a62216a-9a31-4ab1-d399-151998f9ccd8"
      },
      "cell_type": "code",
      "source": [
        "Y = vectorizer.transform([\"Steve Smith is one of the best captains in Cricket\"])\n",
        "prediction = model.predict(Y)\n",
        "print(prediction)  # cluster number \n"
      ],
      "execution_count": 52,
      "outputs": [
        {
          "output_type": "stream",
          "text": [
            "[0]\n"
          ],
          "name": "stdout"
        }
      ]
    },
    {
      "metadata": {
        "id": "l7PcgCnyQHaY",
        "colab_type": "code",
        "colab": {
          "base_uri": "https://localhost:8080/",
          "height": 34
        },
        "outputId": "9afa1562-e136-4190-8df9-ee95d44eb5b2"
      },
      "cell_type": "code",
      "source": [
        "Y = vectorizer.transform([\"England does very well in both Cricket and Football\"])\n",
        "prediction = model.predict(Y)\n",
        "print(prediction)   # cluster number"
      ],
      "execution_count": 53,
      "outputs": [
        {
          "output_type": "stream",
          "text": [
            "[1]\n"
          ],
          "name": "stdout"
        }
      ]
    },
    {
      "metadata": {
        "id": "ZMn5PAgmGH5o",
        "colab_type": "code",
        "colab": {}
      },
      "cell_type": "code",
      "source": [
        ""
      ],
      "execution_count": 0,
      "outputs": []
    },
    {
      "metadata": {
        "id": "Go2UZBcqGHkY",
        "colab_type": "code",
        "colab": {}
      },
      "cell_type": "code",
      "source": [
        ""
      ],
      "execution_count": 0,
      "outputs": []
    },
    {
      "metadata": {
        "id": "PSdwXi7XGHhM",
        "colab_type": "code",
        "colab": {}
      },
      "cell_type": "code",
      "source": [
        ""
      ],
      "execution_count": 0,
      "outputs": []
    },
    {
      "metadata": {
        "id": "16d3BPd4GHdS",
        "colab_type": "code",
        "colab": {}
      },
      "cell_type": "code",
      "source": [
        ""
      ],
      "execution_count": 0,
      "outputs": []
    },
    {
      "metadata": {
        "id": "iJeH3vU0GHcA",
        "colab_type": "code",
        "colab": {}
      },
      "cell_type": "code",
      "source": [
        ""
      ],
      "execution_count": 0,
      "outputs": []
    },
    {
      "metadata": {
        "id": "S7UyINPmGHWv",
        "colab_type": "code",
        "colab": {}
      },
      "cell_type": "code",
      "source": [
        ""
      ],
      "execution_count": 0,
      "outputs": []
    }
  ]
}